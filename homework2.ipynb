{
 "cells": [
  {
   "cell_type": "code",
   "execution_count": 1,
   "metadata": {},
   "outputs": [
    {
     "name": "stdout",
     "output_type": "stream",
     "text": [
      "6 和 2 的最大公约数是: 2\n"
     ]
    }
   ],
   "source": [
    "#编写 Python 程序，求两个正整数的最大公约数\n",
    "def gcd(a, b):\n",
    "    while b != 0:\n",
    "        a, b = b, a % b  \n",
    "    return a  \n",
    "num1 = int(input(\"input the first number: \"))\n",
    "num2 = int(input(\"input the second number: \"))\n",
    "result = gcd(num1, num2)\n",
    "print(f\"{num1} 和 {num2} 的最大公约数是: {result}\")\n"
   ]
  },
  {
   "cell_type": "code",
   "execution_count": 2,
   "metadata": {},
   "outputs": [
    {
     "name": "stdout",
     "output_type": "stream",
     "text": [
      "良好\n"
     ]
    }
   ],
   "source": [
    "#用if语句实现百分制转等级制（考试成绩，60分以下不合格，60—74分合格，75—89分为良好，90分以上为优秀）\n",
    "score = int(input(\"please input your score:\"))\n",
    "if score < 60:\n",
    "    print(\"不合格\")\n",
    "elif score >= 60 and score <= 74:\n",
    "    print(\"合格\")\n",
    "elif score >= 75 and score <= 89:\n",
    "    print(\"良好\")\n",
    "elif score >= 90:\n",
    "    print(\"优秀\")\n",
    "else:\n",
    "    print(\"输入有误\")"
   ]
  },
  {
   "cell_type": "code",
   "execution_count": 6,
   "metadata": {},
   "outputs": [
    {
     "name": "stdout",
     "output_type": "stream",
     "text": [
      "转换后的二进制小数为： 10.0001100110\n"
     ]
    }
   ],
   "source": [
    "#编写Python程序，完成十进制小数到二进制小数的转换\n",
    "#tips:integer and fractional part need to be separated and converted separately\n",
    "dec = input(\"请输入十进制小数：\")\n",
    "dec = float(dec)  \n",
    "# 分离整数部分和小数部分\n",
    "integer_part = int(dec)\n",
    "fractional_part = dec - integer_part\n",
    "# 转换整数部分为二进制\n",
    "bin_integer = bin(integer_part)[2:]\n",
    "# 转换小数部分为二进制\n",
    "bin_fraction = ''\n",
    "for _ in range(10):  \n",
    "    fractional_part *= 2\n",
    "    if fractional_part >= 1:\n",
    "        bin_fraction += '1'\n",
    "        fractional_part -= 1\n",
    "    else:\n",
    "        bin_fraction += '0'\n",
    "\n",
    "bin_num = bin_integer + '.' + bin_fraction\n",
    "\n",
    "print(\"转换后的二进制小数为：\", bin_num)"
   ]
  },
  {
   "cell_type": "code",
   "execution_count": 7,
   "metadata": {},
   "outputs": [
    {
     "name": "stdout",
     "output_type": "stream",
     "text": [
      "随机浮点数: 12.070633543006934\n"
     ]
    }
   ],
   "source": [
    "#编写Python程序，产生10-20的随机浮点数\n",
    "import random\n",
    "random_float = random.uniform(10, 20)\n",
    "print(f\"随机浮点数: {random_float}\")\n"
   ]
  },
  {
   "cell_type": "code",
   "execution_count": 10,
   "metadata": {},
   "outputs": [
    {
     "name": "stdout",
     "output_type": "stream",
     "text": [
      "13432不是回文数\n"
     ]
    }
   ],
   "source": [
    "#编写一个Python函数，判断一个整数是否是回文数。回文数是指正序（从左向右）和倒序（从右向左）读都是一样的数。\n",
    "def is_huiwenshu(num):\n",
    "    num_str = str(num)\n",
    "    return num_str == num_str[::-1]\n",
    "number = int(input(\"请输入一个整数：\"))\n",
    "result = is_huiwenshu(number)\n",
    "if result:\n",
    "    print(f\"{number}是回文数\")\n",
    "else:\n",
    "    print(f\"{number}不是回文数\")"
   ]
  },
  {
   "cell_type": "code",
   "execution_count": 15,
   "metadata": {},
   "outputs": [
    {
     "name": "stdout",
     "output_type": "stream",
     "text": [
      "前 5 个斐波那契数列: [0, 1, 1, 2, 3]\n"
     ]
    }
   ],
   "source": [
    "#编写一个Python函数，返回一个包含斐波那契数列的前N个数的列表。斐波那契数列是一个数列，其中每个数是前两个数的和，数列以0和1开始。\n",
    "def fibonacci(n):\n",
    "    fib =[0,1]\n",
    "    if n==0:\n",
    "        return []\n",
    "    elif n<=1:\n",
    "        return fib[0]\n",
    "    else:\n",
    "        for i in range(2,n):\n",
    "            next_num = fib[i-1]+fib[i-2]\n",
    "            fib.append(next_num)\n",
    "        return fib\n",
    "N = int(input(\"请输入需要输出的斐波那契数列的N值: \"))\n",
    "print(f\"前 {N} 个斐波那契数列: {fibonacci(N)}\")"
   ]
  },
  {
   "cell_type": "code",
   "execution_count": 18,
   "metadata": {},
   "outputs": [
    {
     "name": "stdout",
     "output_type": "stream",
     "text": [
      "数组 [1, 3, 4, 6, 8, 5] 中的第二大数是: 6\n"
     ]
    }
   ],
   "source": [
    "#编写一个Python函数，接受一个整数数组作为输入，返回数组中第二大的数。如果数组中只有一个元素或数组为空，则返回-1。\n",
    "def second_largest(nums):\n",
    "    if len(nums) < 2:\n",
    "        return -1\n",
    "    #first and second are the two initial numbers\n",
    "    first = second = float('-inf')\n",
    "    for num in nums:\n",
    "        if num > first:\n",
    "            second = first\n",
    "            first = num\n",
    "        elif num > second and num != first:\n",
    "            second = num\n",
    "    return second\n",
    "str = input(\"请输入一个整数数组: \")\n",
    "nums = [int(x) for x in str.split(',')]\n",
    "result = second_largest(nums)\n",
    "print(f\"数组 {nums} 中的第二大数是: {result}\")"
   ]
  },
  {
   "cell_type": "code",
   "execution_count": 22,
   "metadata": {},
   "outputs": [
    {
     "name": "stdout",
     "output_type": "stream",
     "text": [
      "身份证号码合法\n"
     ]
    }
   ],
   "source": [
    "#编写一个函数，使其能够用正则表达式的方式简单验证身份证号是否合法。\n",
    "import re\n",
    "\n",
    "def is_valid_id_card(id_card):\n",
    "    # 身份证号码的正则表达式\n",
    "    pattern  = r'(^\\d{15}$)|(^\\d{17}([0-9]|X)$)'\n",
    "    \n",
    "    # 使用正则表达式匹配身份证号\n",
    "    if re.match(pattern, id_card):\n",
    "        return True\n",
    "    else:\n",
    "        return False\n",
    "\n",
    "# 测试\n",
    "id_card = input(\"请输入身份证号码: \")\n",
    "if is_valid_id_card(id_card):\n",
    "    print(\"身份证号码合法\")\n",
    "else:\n",
    "    print(\"身份证号码不合法\")\n"
   ]
  }
 ],
 "metadata": {
  "kernelspec": {
   "display_name": "Python 3",
   "language": "python",
   "name": "python3"
  },
  "language_info": {
   "codemirror_mode": {
    "name": "ipython",
    "version": 3
   },
   "file_extension": ".py",
   "mimetype": "text/x-python",
   "name": "python",
   "nbconvert_exporter": "python",
   "pygments_lexer": "ipython3",
   "version": "3.12.7"
  }
 },
 "nbformat": 4,
 "nbformat_minor": 2
}
