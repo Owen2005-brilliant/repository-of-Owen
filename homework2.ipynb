{
 "cells": [
  {
   "cell_type": "code",
   "execution_count": 1,
   "metadata": {},
   "outputs": [
    {
     "name": "stdout",
     "output_type": "stream",
     "text": [
      "6 和 2 的最大公约数是: 2\n"
     ]
    }
   ],
   "source": [
    "#编写 Python 程序，求两个正整数的最大公约数\n",
    "def gcd(a, b):\n",
    "    while b != 0:\n",
    "        a, b = b, a % b  \n",
    "    return a  \n",
    "num1 = int(input(\"input the first number: \"))\n",
    "num2 = int(input(\"input the second number: \"))\n",
    "result = gcd(num1, num2)\n",
    "print(f\"{num1} 和 {num2} 的最大公约数是: {result}\")\n"
   ]
  }
 ],
 "metadata": {
  "kernelspec": {
   "display_name": "Python 3",
   "language": "python",
   "name": "python3"
  },
  "language_info": {
   "codemirror_mode": {
    "name": "ipython",
    "version": 3
   },
   "file_extension": ".py",
   "mimetype": "text/x-python",
   "name": "python",
   "nbconvert_exporter": "python",
   "pygments_lexer": "ipython3",
   "version": "3.12.7"
  }
 },
 "nbformat": 4,
 "nbformat_minor": 2
}
