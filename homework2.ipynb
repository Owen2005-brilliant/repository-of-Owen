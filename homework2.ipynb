{
 "cells": [
  {
   "cell_type": "code",
   "execution_count": 1,
   "metadata": {},
   "outputs": [
    {
     "name": "stdout",
     "output_type": "stream",
     "text": [
      "6 和 2 的最大公约数是: 2\n"
     ]
    }
   ],
   "source": [
    "#编写 Python 程序，求两个正整数的最大公约数\n",
    "def gcd(a, b):\n",
    "    while b != 0:\n",
    "        a, b = b, a % b  \n",
    "    return a  \n",
    "num1 = int(input(\"input the first number: \"))\n",
    "num2 = int(input(\"input the second number: \"))\n",
    "result = gcd(num1, num2)\n",
    "print(f\"{num1} 和 {num2} 的最大公约数是: {result}\")\n"
   ]
  },
  {
   "cell_type": "code",
   "execution_count": 2,
   "metadata": {},
   "outputs": [
    {
     "name": "stdout",
     "output_type": "stream",
     "text": [
      "良好\n"
     ]
    }
   ],
   "source": [
    "#用if语句实现百分制转等级制（考试成绩，60分以下不合格，60—74分合格，75—89分为良好，90分以上为优秀）\n",
    "score = int(input(\"please input your score:\"))\n",
    "if score < 60:\n",
    "    print(\"不合格\")\n",
    "elif score >= 60 and score <= 74:\n",
    "    print(\"合格\")\n",
    "elif score >= 75 and score <= 89:\n",
    "    print(\"良好\")\n",
    "elif score >= 90:\n",
    "    print(\"优秀\")\n",
    "else:\n",
    "    print(\"输入有误\")"
   ]
  },
  {
   "cell_type": "code",
   "execution_count": 6,
   "metadata": {},
   "outputs": [
    {
     "name": "stdout",
     "output_type": "stream",
     "text": [
      "转换后的二进制小数为： 10.0001100110\n"
     ]
    }
   ],
   "source": [
    "#编写Python程序，完成十进制小数到二进制小数的转换\n",
    "#tips:integer and fractional part need to be separated and converted separately\n",
    "dec = input(\"请输入十进制小数：\")\n",
    "dec = float(dec)  \n",
    "# 分离整数部分和小数部分\n",
    "integer_part = int(dec)\n",
    "fractional_part = dec - integer_part\n",
    "# 转换整数部分为二进制\n",
    "bin_integer = bin(integer_part)[2:]\n",
    "# 转换小数部分为二进制\n",
    "bin_fraction = ''\n",
    "for _ in range(10):  \n",
    "    fractional_part *= 2\n",
    "    if fractional_part >= 1:\n",
    "        bin_fraction += '1'\n",
    "        fractional_part -= 1\n",
    "    else:\n",
    "        bin_fraction += '0'\n",
    "\n",
    "bin_num = bin_integer + '.' + bin_fraction\n",
    "\n",
    "print(\"转换后的二进制小数为：\", bin_num)"
   ]
  },
  {
   "cell_type": "code",
   "execution_count": null,
   "metadata": {},
   "outputs": [],
   "source": [
    "#编写Python程序，产生10-20的随机浮点数"
   ]
  },
  {
   "cell_type": "code",
   "execution_count": null,
   "metadata": {},
   "outputs": [],
   "source": [
    "#编写一个Python函数，判断一个整数是否是回文数。回文数是指正序（从左向右）和倒序（从右向左）读都是一样的数。"
   ]
  },
  {
   "cell_type": "code",
   "execution_count": null,
   "metadata": {},
   "outputs": [],
   "source": [
    "#编写一个Python函数，返回一个包含斐波那契数列的前N个数的列表。斐波那契数列是一个数列，其中每个数是前两个数的和，数列以0和1开始。"
   ]
  },
  {
   "cell_type": "code",
   "execution_count": null,
   "metadata": {},
   "outputs": [],
   "source": [
    "#编写一个Python函数，接受一个整数数组作为输入，返回数组中第二大的数。如果数组中只有一个元素或数组为空，则返回-1。"
   ]
  },
  {
   "cell_type": "code",
   "execution_count": null,
   "metadata": {},
   "outputs": [],
   "source": [
    "#编写一个函数，使其能够用正则表达式的方式简单验证身份证号是否合法。"
   ]
  }
 ],
 "metadata": {
  "kernelspec": {
   "display_name": "Python 3",
   "language": "python",
   "name": "python3"
  },
  "language_info": {
   "codemirror_mode": {
    "name": "ipython",
    "version": 3
   },
   "file_extension": ".py",
   "mimetype": "text/x-python",
   "name": "python",
   "nbconvert_exporter": "python",
   "pygments_lexer": "ipython3",
   "version": "3.12.7"
  }
 },
 "nbformat": 4,
 "nbformat_minor": 2
}
