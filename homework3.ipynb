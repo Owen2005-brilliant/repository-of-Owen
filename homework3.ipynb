{
 "cells": [
  {
   "cell_type": "code",
   "execution_count": 2,
   "metadata": {},
   "outputs": [
    {
     "name": "stdout",
     "output_type": "stream",
     "text": [
      "8 不是质数\n"
     ]
    }
   ],
   "source": [
    "#1.编写 Python程序,判断输入a是否为质数\n",
    "def is_prime(a):\n",
    "    if a<2:\n",
    "        return False\n",
    "    for i in range(2,int(a**0.5)+1):\n",
    "        if a%i==0:\n",
    "            return False\n",
    "    return True\n",
    "a=int(input(\"请输入一个整数:\"))\n",
    "if is_prime(a):\n",
    "    print(a,\"是质数\")\n",
    "else:\n",
    "    print(a,\"不是质数\")\n"
   ]
  },
  {
   "cell_type": "code",
   "execution_count": 3,
   "metadata": {},
   "outputs": [
    {
     "name": "stdout",
     "output_type": "stream",
     "text": [
      "排序后的列表为：[2, 3, 4, 5, 7]\n"
     ]
    }
   ],
   "source": [
    "#2.用Python实现插入排序该算法，不允许直接调用插入排序函数，需要手动实现其逻辑过程。\n",
    "def insertion_sort(arr):\n",
    "    n = len(arr)\n",
    "    for i in range(1, n):\n",
    "        key = arr[i]\n",
    "        j = i-1\n",
    "        while j>=0 and arr[j]>key:\n",
    "            arr[j+1]=arr[j]\n",
    "            j-=1\n",
    "        arr[j+1]=key\n",
    "    return arr\n",
    "input_arr = input(\"请用空格分隔输入一个整数序列：\")\n",
    "input_list = [int(x) for x in input_arr.split()]\n",
    "key_arr = insertion_sort(input_list)\n",
    "print(f\"排序后的列表为：{key_arr}\")\n",
    "            \n"
   ]
  },
  {
   "cell_type": "code",
   "execution_count": 4,
   "metadata": {},
   "outputs": [
    {
     "name": "stdout",
     "output_type": "stream",
     "text": [
      "经过选择排序之后的列表为：[1, 2, 3, 5, 7]\n"
     ]
    }
   ],
   "source": [
    "#3.用Python实现选择排序该算法，不允许直接调用插入排序函数，需要手动实现其逻辑过程\n",
    "def selection_sort(arr):\n",
    "    n = len(arr)\n",
    "    for i in range(n):\n",
    "        min = i\n",
    "        for j in range(i+1, n):\n",
    "            if arr[j] < arr[min]:\n",
    "                min = j\n",
    "        arr[i],arr[min] = arr[min], arr[i]\n",
    "    return arr\n",
    "input_arr = input(\"请输入数组：\").split()\n",
    "arr = [int(i) for i in input_arr]\n",
    "print(f\"经过选择排序之后的列表为：{selection_sort(arr)}\")\n"
   ]
  },
  {
   "cell_type": "code",
   "execution_count": null,
   "metadata": {},
   "outputs": [],
   "source": [
    "#4.用Python实现快速排序该算法，不允许直接调用插入排序函数，需要手动实现其逻辑过程。\n",
    "def quick_sort(arr):\n",
    "    n = len(arr)\n",
    "    if n <=1:\n",
    "        return arr\n",
    "    else:\n",
    "        pivot = arr[n-1]\n",
    "        \n",
    "        "
   ]
  }
 ],
 "metadata": {
  "kernelspec": {
   "display_name": "Python 3",
   "language": "python",
   "name": "python3"
  },
  "language_info": {
   "codemirror_mode": {
    "name": "ipython",
    "version": 3
   },
   "file_extension": ".py",
   "mimetype": "text/x-python",
   "name": "python",
   "nbconvert_exporter": "python",
   "pygments_lexer": "ipython3",
   "version": "3.12.7"
  }
 },
 "nbformat": 4,
 "nbformat_minor": 2
}
