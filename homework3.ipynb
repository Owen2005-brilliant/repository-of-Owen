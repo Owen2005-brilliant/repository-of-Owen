{
 "cells": [
  {
   "cell_type": "code",
   "execution_count": 2,
   "metadata": {},
   "outputs": [
    {
     "name": "stdout",
     "output_type": "stream",
     "text": [
      "8 不是质数\n"
     ]
    }
   ],
   "source": [
    "#1.编写 Python程序,判断输入a是否为质数\n",
    "def is_prime(a):\n",
    "    if a<2:\n",
    "        return False\n",
    "    for i in range(2,int(a**0.5)+1):\n",
    "        if a%i==0:\n",
    "            return False\n",
    "    return True\n",
    "a=int(input(\"请输入一个整数:\"))\n",
    "if is_prime(a):\n",
    "    print(a,\"是质数\")\n",
    "else:\n",
    "    print(a,\"不是质数\")\n"
   ]
  },
  {
   "cell_type": "code",
   "execution_count": 3,
   "metadata": {},
   "outputs": [
    {
     "name": "stdout",
     "output_type": "stream",
     "text": [
      "排序后的列表为：[2, 3, 4, 5, 7]\n"
     ]
    }
   ],
   "source": [
    "#2.用Python实现插入排序该算法，不允许直接调用插入排序函数，需要手动实现其逻辑过程。\n",
    "def insertion_sort(arr):\n",
    "    n = len(arr)\n",
    "    for i in range(1, n):\n",
    "        key = arr[i]\n",
    "        j = i-1\n",
    "        while j>=0 and arr[j]>key:\n",
    "            arr[j+1]=arr[j]\n",
    "            j-=1\n",
    "        arr[j+1]=key\n",
    "    return arr\n",
    "input_arr = input(\"请用空格分隔输入一个整数序列：\")\n",
    "input_list = [int(x) for x in input_arr.split()]\n",
    "key_arr = insertion_sort(input_list)\n",
    "print(f\"排序后的列表为：{key_arr}\")\n",
    "            \n"
   ]
  },
  {
   "cell_type": "code",
   "execution_count": 4,
   "metadata": {},
   "outputs": [
    {
     "name": "stdout",
     "output_type": "stream",
     "text": [
      "经过选择排序之后的列表为：[1, 2, 3, 5, 7]\n"
     ]
    }
   ],
   "source": [
    "#3.用Python实现选择排序该算法，不允许直接调用插入排序函数，需要手动实现其逻辑过程\n",
    "def selection_sort(arr):\n",
    "    n = len(arr)\n",
    "    for i in range(n):\n",
    "        min = i\n",
    "        for j in range(i+1, n):\n",
    "            if arr[j] < arr[min]:\n",
    "                min = j\n",
    "        arr[i],arr[min] = arr[min], arr[i]\n",
    "    return arr\n",
    "input_arr = input(\"请输入数组：\").split()\n",
    "arr = [int(i) for i in input_arr]\n",
    "print(f\"经过选择排序之后的列表为：{selection_sort(arr)}\")\n"
   ]
  },
  {
   "cell_type": "code",
   "execution_count": 17,
   "metadata": {},
   "outputs": [
    {
     "name": "stdout",
     "output_type": "stream",
     "text": [
      "经过选择排序之后的列表为：[3, 4, 5, 7, 23]\n"
     ]
    }
   ],
   "source": [
    "#4.用Python实现快速排序该算法，不允许直接调用插入排序函数，需要手动实现其逻辑过程。\n",
    "def partition(arr,start,end):\n",
    "    pivot = arr[end]\n",
    "    i = start - 1\n",
    "    for j in range(start,end):\n",
    "        if arr[j] <= pivot:\n",
    "            i += 1\n",
    "            arr[i],arr[j] = arr[j],arr[i]\n",
    "    arr[i+1],arr[end] = arr[end],arr[i+1]\n",
    "    return i+1\n",
    "\n",
    "def quickSort(arr,start,end):\n",
    "    if start < end:\n",
    "        pivot = partition(arr,start,end)\n",
    "        quickSort(arr,start,pivot-1)\n",
    "        quickSort(arr,pivot+1,end)\n",
    "        \n",
    "arr = list(map(int,input(\"请输入需要排序的数字，用空格隔开：\").split()))\n",
    "quickSort(arr, 0, len(arr) - 1)\n",
    "print(f\"经过选择排序之后的列表为：{arr}\")\n",
    "        "
   ]
  },
  {
   "cell_type": "code",
   "execution_count": 26,
   "metadata": {},
   "outputs": [
    {
     "name": "stdout",
     "output_type": "stream",
     "text": [
      "Length of arr_100: 100\n",
      "Length of arr_1000: 1000\n",
      "Length of arr_10000: 10000\n",
      "对长度为100的数组进行排序:\n",
      "repeat: 100\n",
      "插入排序: 0.000103 秒\n",
      "repeat: 100\n",
      "选择排序: 0.000118 秒\n",
      "repeat: 100\n",
      "快速排序: 0.000035 秒\n",
      "\n",
      "对长度为1000的数组进行排序:\n",
      "repeat: 100\n",
      "插入排序: 0.011934 秒\n",
      "repeat: 100\n",
      "选择排序: 0.012163 秒\n",
      "repeat: 100\n",
      "快速排序: 0.000541 秒\n",
      "\n",
      "对长度为10000的数组进行排序:\n",
      "repeat: 100\n",
      "插入排序: 1.292014 秒\n",
      "repeat: 100\n",
      "选择排序: 1.192258 秒\n",
      "repeat: 100\n",
      "快速排序: 0.007807 秒\n"
     ]
    }
   ],
   "source": [
    "import random\n",
    "import time\n",
    "\n",
    "# 插入排序\n",
    "def insertion_sort(arr):\n",
    "    n = len(arr)\n",
    "    for i in range(1, n):\n",
    "        key = arr[i]\n",
    "        j = i - 1\n",
    "        while j >= 0 and arr[j] > key:\n",
    "            arr[j + 1] = arr[j]\n",
    "            j -= 1\n",
    "        arr[j + 1] = key\n",
    "    return arr\n",
    "\n",
    "# 选择排序\n",
    "def selection_sort(arr):\n",
    "    n = len(arr)\n",
    "    for i in range(n):\n",
    "        min_index = i\n",
    "        for j in range(i + 1, n):\n",
    "            if arr[j] < arr[min_index]:\n",
    "                min_index = j\n",
    "        arr[i], arr[min_index] = arr[min_index], arr[i]\n",
    "    return arr\n",
    "\n",
    "# 快速排序\n",
    "def partition(arr, start, end):\n",
    "    pivot = arr[end]\n",
    "    i = start - 1\n",
    "    for j in range(start, end):\n",
    "        if arr[j] <= pivot:\n",
    "            i += 1\n",
    "            arr[i], arr[j] = arr[j], arr[i]\n",
    "    arr[i + 1], arr[end] = arr[end], arr[i + 1]\n",
    "    return i + 1\n",
    "\n",
    "def quickSort(arr, start, end):\n",
    "    if start < end:\n",
    "        pivot = partition(arr, start, end)\n",
    "        quickSort(arr, start, pivot - 1)\n",
    "        quickSort(arr, pivot + 1, end)\n",
    "    return arr  # 确保返回排序后的数组\n",
    "\n",
    "# 时间测量函数\n",
    "def measure_time(sort_func, arr, *args, repeat=100):  # 将repeat参数放到最后\n",
    "    print(f\"repeat: {repeat}\")  # 调试信息，查看repeat的值\n",
    "    if repeat <= 0:  # 防止传入非法值\n",
    "        raise ValueError(\"repeat 必须大于 0\")\n",
    "    \n",
    "    total_time = 0\n",
    "    for _ in range(repeat):\n",
    "        arr_copy = arr[:]  # 每次测试都需要重新复制数组，避免排序影响后续结果\n",
    "        start_time = time.perf_counter()\n",
    "        sort_func(arr_copy, *args)\n",
    "        total_time += time.perf_counter() - start_time\n",
    "    average_time = total_time / repeat\n",
    "    return average_time\n",
    "\n",
    "# 生成三组长度递增的随机数列\n",
    "arr_100 = random.sample(range(1, 1000), 100)\n",
    "arr_1000 = random.sample(range(1, 10000), 1000)\n",
    "arr_10000 = random.sample(range(1, 100000), 10000)\n",
    "\n",
    "# 确保所有数组的长度是有效的\n",
    "print(f\"Length of arr_100: {len(arr_100)}\")\n",
    "print(f\"Length of arr_1000: {len(arr_1000)}\")\n",
    "print(f\"Length of arr_10000: {len(arr_10000)}\")\n",
    "\n",
    "# 将数组复制一下，确保进行时间排序的时候每次使用的数组都是同一个，避免因数据差异造成的误差\n",
    "arr_100_1 = arr_100[:]\n",
    "arr_100_2 = arr_100[:]\n",
    "arr_1000_1 = arr_1000[:]\n",
    "arr_1000_2 = arr_1000[:]\n",
    "arr_10000_1 = arr_10000[:]\n",
    "arr_10000_2 = arr_10000[:]\n",
    "\n",
    "print(\"对长度为100的数组进行排序:\")\n",
    "print(f\"插入排序: {measure_time(insertion_sort, arr_100, repeat=100):.6f} 秒\")\n",
    "print(f\"选择排序: {measure_time(selection_sort, arr_100_1, repeat=100):.6f} 秒\")\n",
    "print(f\"快速排序: {measure_time(quickSort, arr_100_2, 0, len(arr_100_2) - 1, repeat=100):.6f} 秒\")  # 关键字参数放在最后\n",
    "\n",
    "print(\"\\n对长度为1000的数组进行排序:\")\n",
    "print(f\"插入排序: {measure_time(insertion_sort, arr_1000, repeat=100):.6f} 秒\")\n",
    "print(f\"选择排序: {measure_time(selection_sort, arr_1000_1, repeat=100):.6f} 秒\")\n",
    "print(f\"快速排序: {measure_time(quickSort, arr_1000_2, 0, len(arr_1000_2) - 1, repeat=100):.6f} 秒\")\n",
    "\n",
    "print(\"\\n对长度为10000的数组进行排序:\")\n",
    "print(f\"插入排序: {measure_time(insertion_sort, arr_10000, repeat=100):.6f} 秒\")\n",
    "print(f\"选择排序: {measure_time(selection_sort, arr_10000_1, repeat=100):.6f} 秒\")\n",
    "print(f\"快速排序: {measure_time(quickSort, arr_10000_2, 0, len(arr_10000_2) - 1, repeat=100):.6f} 秒\")\n"
   ]
  },
  {
   "cell_type": "code",
   "execution_count": 27,
   "metadata": {},
   "outputs": [
    {
     "name": "stdout",
     "output_type": "stream",
     "text": [
      "当前系统的时间为：2024-10-15 20:30:26.741060\n"
     ]
    }
   ],
   "source": [
    "#使用python代码获取当前系统时间\n",
    "from datetime import datetime\n",
    "NowTime = datetime.now()\n",
    "print(f\"当前系统的时间为：{NowTime}\")"
   ]
  },
  {
   "cell_type": "code",
   "execution_count": 31,
   "metadata": {},
   "outputs": [
    {
     "name": "stdout",
     "output_type": "stream",
     "text": [
      "语文平均成绩: 82.6\n",
      "数学平均成绩: 81.0\n",
      "英语平均成绩: 81.8\n"
     ]
    }
   ],
   "source": [
    "#homework/data文件夹下的stuGrade,csv文件中包含5位同学的学号、语文成绩、数学成绩和英语成绩，请先用记事本打开该文件，查看文件内容，然后编写Python程序，读取该文件，并计算出各科的平均成绩(保留2位小数)。\n",
    "import csv\n",
    "chinese_sum = 0\n",
    "math_sum = 0\n",
    "english_sum = 0\n",
    "student_num = 0\n",
    "with open(r\"C:\\Users\\大头\\Desktop\\stuGrade.csv\",newline=\"\",encoding=\"utf-8\") as grade:\n",
    "    reader = csv.DictReader(grade)\n",
    "    for row in reader:\n",
    "        chinese_sum += int(row['chinese'])\n",
    "        math_sum += int(row['math'])\n",
    "        english_sum += int(row['english'])\n",
    "        student_num += 1\n",
    "    if student_num > 0:\n",
    "        chinese_avg = chinese_sum / student_num\n",
    "        math_avg = math_sum / student_num\n",
    "        english_avg = english_sum / student_num\n",
    "\n",
    "print(f\"语文平均成绩: {chinese_avg}\")\n",
    "print(f\"数学平均成绩: {math_avg}\")\n",
    "print(f\"英语平均成绩: {english_avg}\")\n",
    "    "
   ]
  },
  {
   "cell_type": "code",
   "execution_count": null,
   "metadata": {},
   "outputs": [],
   "source": [
    "#.请在第7题的代码继续编写Python程序，将以下内容写入my.txt文件中，一并上传到qithub中。"
   ]
  }
 ],
 "metadata": {
  "kernelspec": {
   "display_name": "Python 3",
   "language": "python",
   "name": "python3"
  },
  "language_info": {
   "codemirror_mode": {
    "name": "ipython",
    "version": 3
   },
   "file_extension": ".py",
   "mimetype": "text/x-python",
   "name": "python",
   "nbconvert_exporter": "python",
   "pygments_lexer": "ipython3",
   "version": "3.12.7"
  }
 },
 "nbformat": 4,
 "nbformat_minor": 2
}
