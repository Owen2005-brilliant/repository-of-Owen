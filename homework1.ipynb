{
 "cells": [
  {
   "cell_type": "code",
   "execution_count": 1,
   "metadata": {},
   "outputs": [
    {
     "name": "stdout",
     "output_type": "stream",
     "text": [
      "★ 数据科学与工程导论 ★\n"
     ]
    }
   ],
   "source": [
    "#subject 1:.编写Python程序，打印\"数据科学与工程导论\"，并使用 print(chr(0x2605))语句将星星包围起来。\n",
    "#左星星\n",
    "print(chr(0x2605), end=' ')   \n",
    "print(\"数据科学与工程导论\", end=' ')  \n",
    "#右星星\n",
    "print(chr(0x2605))"
   ]
  },
  {
   "cell_type": "code",
   "execution_count": 1,
   "metadata": {},
   "outputs": [
    {
     "name": "stdout",
     "output_type": "stream",
     "text": [
      "the right order of the numbers is： 2.0 3.0 5.0\n"
     ]
    }
   ],
   "source": [
    "#subject 2: 输入x,yz这三个数，将这三个数从小到大使用 print 函数打印出来\n",
    "#用了float来定义，满足处理浮点数的排序情况\n",
    "x = float(input(\"please input x: \"))  \n",
    "y = float(input(\"please input y: \"))  \n",
    "z = float(input(\"please input z: \"))  \n",
    "numbers = [x, y, z]  \n",
    "numbers.sort() \n",
    "print(\"the right order of the numbers is：\", numbers[0], numbers[1], numbers[2])\n",
    "\n",
    "\n"
   ]
  },
  {
   "cell_type": "code",
   "execution_count": 2,
   "metadata": {},
   "outputs": [
    {
     "name": "stdout",
     "output_type": "stream",
     "text": [
      "The right order of the numbers are: [8.8, 6.1, 5.2, 1.3]\n"
     ]
    }
   ],
   "source": [
    "#subject 3 :有 w, xyz四个数，将这四个数从大到小使用 print 函数打印出来\n",
    "w = float(input(\"please input w: \"))\n",
    "x = float(input(\"please input x: \"))  \n",
    "y = float(input(\"please input y: \"))  \n",
    "z = float(input(\"please input z: \"))  \n",
    "numbers = [w,x,y,z]\n",
    "after_sorted_numbers = sorted(numbers,reverse = True)\n",
    "print(\"The right order of the numbers are:\",after_sorted_numbers)"
   ]
  },
  {
   "cell_type": "code",
   "execution_count": 4,
   "metadata": {},
   "outputs": [
    {
     "name": "stdout",
     "output_type": "stream",
     "text": [
      "1 3 5 7 9 11 13 15 17 19 21 23 25 27 29 31 33 35 37 39 41 43 45 47 49 51 53 55 57 59 61 63 65 67 69 71 73 75 77 79 81 83 85 87 89 91 93 95 97 99 "
     ]
    }
   ],
   "source": [
    "#subject 4:输出 1-100 中的所有奇数\n",
    "i = 1\n",
    "while i <= 100:\n",
    "    if i % 2 == 1:\n",
    "        print(i,end = ' ') #放在一行里面输出，看起来比较好看些\n",
    "    i += 1"
   ]
  },
  {
   "cell_type": "code",
   "execution_count": 5,
   "metadata": {},
   "outputs": [
    {
     "name": "stdout",
     "output_type": "stream",
     "text": [
      "5050\n"
     ]
    }
   ],
   "source": [
    "#subject 5:用 for 循环，求解 1 到 100 的和\n",
    "sum=0\n",
    "for i in range(1,101):\n",
    "    sum=sum+i\n",
    "print(sum)"
   ]
  },
  {
   "cell_type": "code",
   "execution_count": 7,
   "metadata": {},
   "outputs": [
    {
     "name": "stdout",
     "output_type": "stream",
     "text": [
      "用for循环后的倒序序列为:[5, 4, 3, 2, 1]\n",
      "用while循环后的倒序序列为:[5, 4, 3, 2, 1]\n"
     ]
    }
   ],
   "source": [
    "#subject 6:分别用 for 和 while 循环实现对一个给定序列的倒排序输出。例如，给定 L=[1,2,3,4,5]，输出为[5,4,3,2,1]。\n",
    "#用for循环\n",
    "L = [1,2,3,4,5]\n",
    "L1 = []\n",
    "for i in range(len(L)-1,-1,-1):\n",
    "    L1.append(L[i])\n",
    "print(f\"用for循环后的倒序序列为:{L1}\")\n",
    "#用while循环\n",
    "L2 = []\n",
    "i = len(L)-1\n",
    "while i>=0:\n",
    "    L2.append(L[i])\n",
    "    i -= 1\n",
    "print(f\"用while循环后的倒序序列为:{L2}\")\n"
   ]
  },
  {
   "cell_type": "code",
   "execution_count": 9,
   "metadata": {},
   "outputs": [
    {
     "name": "stdout",
     "output_type": "stream",
     "text": [
      "The string 'hhhwohaoxihuanni' contains two or morerepeated strings.\n"
     ]
    }
   ],
   "source": [
    "#subject 7:写一个 Python 程序，判断一个输入的字符串S是否包含由两个或两个以上连续出现的相同字符组成的字符串。\n",
    "def is_repeated_string(s):\n",
    "    for i in range(len(s)-1):\n",
    "        if s[i] == s[i+1]:\n",
    "            count = 1\n",
    "            return True\n",
    "    return False\n",
    "s = input(\"Please enter a string: \")\n",
    "if is_repeated_string(s):\n",
    "    print(f\"The string '{s}' contains two or morerepeated strings.\")\n",
    "else:\n",
    "    print(f\"The string '{s}' does not contain two or more repeated strings.\")\n",
    "    \n",
    "                "
   ]
  },
  {
   "cell_type": "code",
   "execution_count": 11,
   "metadata": {},
   "outputs": [
    {
     "name": "stdout",
     "output_type": "stream",
     "text": [
      "the original string is: wish you have a nice day\n",
      "the string without space is: wishyouhaveaniceday\n"
     ]
    }
   ],
   "source": [
    "#subject 8:输入一个字符串S，去掉其中所有的空格后输出\n",
    "s = input(\"Please input a string: \")\n",
    "print(f\"the original string is: {s}\")\n",
    "Nospace_s = s.replace(\" \",\"\")\n",
    "print(f\"the string without space is: {Nospace_s}\")"
   ]
  },
  {
   "cell_type": "code",
   "execution_count": 14,
   "metadata": {},
   "outputs": [
    {
     "name": "stdout",
     "output_type": "stream",
     "text": [
      "数字9.0的三次方根为2.0800838230519054\n"
     ]
    }
   ],
   "source": [
    "#subject 9:请设计一个求3次方根的算法(不允许直接调用求方根的函数)，并给出对应的 Pthon 程序。 \n",
    "def cube_root(a ,limit = 1e-5, max_iter = 1000):\n",
    "    #精度的极限设置为1e-7,最多可以接受1000次迭代\n",
    "    x = a/3\n",
    "    for i in range(max_iter):\n",
    "        f_x = x**3 - a\n",
    "        derivative_x = 3*x**2\n",
    "        next_x = x - f_x/derivative_x\n",
    "        if abs(next_x - x) < limit:\n",
    "            return next_x\n",
    "        x = next_x\n",
    "    return x\n",
    "input_num = float(input(\"请输入需要求三次方根的数字：\"))\n",
    "cube_root_result = cube_root(input_num)\n",
    "print(f\"数字{input_num}的三次方根为{cube_root_result}\")\n",
    "    \n",
    "    "
   ]
  },
  {
   "cell_type": "code",
   "execution_count": 18,
   "metadata": {},
   "outputs": [
    {
     "name": "stdout",
     "output_type": "stream",
     "text": [
      "5的阶乘是：120\n"
     ]
    }
   ],
   "source": [
    "#subject 10:给定一个常数n(n>0)，求n的阶乘，即 n!=1x2x...x(n-1)xn。例如，4!=24,5!=120。\n",
    "def factorial_num(n):  \n",
    "    if n < 0:  \n",
    "        return False  \n",
    "    elif n == 0 or n == 1:  \n",
    "        return 1  \n",
    "    else:  \n",
    "        return n * factorial_num(n-1)  \n",
    "  \n",
    "n = int(input(\"请输入需要计算阶乘的数字：\"))  \n",
    "print(f\"{n}的阶乘是：{factorial_num(n)}\")"
   ]
  }
 ],
 "metadata": {
  "kernelspec": {
   "display_name": "Python 3",
   "language": "python",
   "name": "python3"
  },
  "language_info": {
   "codemirror_mode": {
    "name": "ipython",
    "version": 3
   },
   "file_extension": ".py",
   "mimetype": "text/x-python",
   "name": "python",
   "nbconvert_exporter": "python",
   "pygments_lexer": "ipython3",
   "version": "3.12.7"
  }
 },
 "nbformat": 4,
 "nbformat_minor": 2
}
